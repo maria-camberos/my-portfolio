{
 "cells": [
  {
   "cell_type": "markdown",
   "id": "7471b236",
   "metadata": {},
   "source": [
    "# Ejercicios en python (Parte 1)"
   ]
  },
  {
   "cell_type": "markdown",
   "id": "bfaae999",
   "metadata": {},
   "source": [
    "1 - Definir una función max() que tome como argumento dos números y devuelva el mayor de ellos.\n",
    "(Es cierto que python tiene una función max() incorporada, pero hacerla nosotros mismos es un muy buen ejercicio."
   ]
  },
  {
   "cell_type": "code",
   "execution_count": 1,
   "id": "2ce21fd2",
   "metadata": {},
   "outputs": [
    {
     "name": "stdout",
     "output_type": "stream",
     "text": [
      "Los valores no pueden ser iguales\n"
     ]
    }
   ],
   "source": [
    "def max(a,b):\n",
    "    if a > b:\n",
    "        return a\n",
    "    elif b > a:\n",
    "        return b\n",
    "    else:\n",
    "        print('Los valores no pueden ser iguales')\n",
    "max(10,10)"
   ]
  },
  {
   "cell_type": "markdown",
   "id": "5ca8ff9a",
   "metadata": {},
   "source": [
    "2 - Definir una función max_de_tres(), que tome tres números como argumentos y devuelva el mayor de ellos."
   ]
  },
  {
   "cell_type": "code",
   "execution_count": 2,
   "id": "7c9c3d9e",
   "metadata": {},
   "outputs": [
    {
     "data": {
      "text/plain": [
       "100"
      ]
     },
     "execution_count": 2,
     "metadata": {},
     "output_type": "execute_result"
    }
   ],
   "source": [
    "def max_de_tres(a,b,c):\n",
    "    if a > b  and a > c:\n",
    "        return a\n",
    "    elif b > c and b > a :\n",
    "        return b\n",
    "    else:\n",
    "        return c\n",
    "\n",
    "max_de_tres(100,90,2)\n"
   ]
  },
  {
   "cell_type": "markdown",
   "id": "abf3e604",
   "metadata": {},
   "source": [
    "3 - Definir una función que calcule la longitud de una lista o una cadena dada. (Es cierto que python tiene la función len()\n",
    "incorporada, pero escribirla por nosotros mismos resulta un muy buen ejercicio."
   ]
  },
  {
   "cell_type": "code",
   "execution_count": 3,
   "id": "a02e2b70",
   "metadata": {},
   "outputs": [
    {
     "data": {
      "text/plain": [
       "5"
      ]
     },
     "execution_count": 3,
     "metadata": {},
     "output_type": "execute_result"
    }
   ],
   "source": [
    "def count_long(string):\n",
    "    count = 0\n",
    "    for i in string:\n",
    "        count +=1\n",
    "    return count\n",
    "count_long(['uno', 'dos', 'tres','cuatro'])\n",
    "count_long('Libro')"
   ]
  },
  {
   "cell_type": "markdown",
   "id": "9c600419",
   "metadata": {},
   "source": [
    "4 - Escribir una función que tome un carácter y devuelva True si es una vocal, de lo contrario devuelve False."
   ]
  },
  {
   "cell_type": "code",
   "execution_count": 4,
   "id": "41844074",
   "metadata": {},
   "outputs": [
    {
     "data": {
      "text/plain": [
       "True"
      ]
     },
     "execution_count": 4,
     "metadata": {},
     "output_type": "execute_result"
    }
   ],
   "source": [
    "def vocal(a):\n",
    "    a = a.lower()\n",
    "    if a in('a','e','i','o','u'):\n",
    "        return True\n",
    "    else:\n",
    "        return False\n",
    "vocal('i')    "
   ]
  },
  {
   "cell_type": "markdown",
   "id": "ef65fda8",
   "metadata": {},
   "source": [
    "5 - Escribir una función sum() y una función multip() que sumen y multipliquen respectivamente todos los números\n",
    "de una lista. Por ejemplo: sum([1,2,3,4]) debería devolver 10 y multip([1,2,3,4]) debería devolver 24."
   ]
  },
  {
   "cell_type": "code",
   "execution_count": 5,
   "id": "85fa3366",
   "metadata": {},
   "outputs": [
    {
     "data": {
      "text/plain": [
       "10"
      ]
     },
     "execution_count": 5,
     "metadata": {},
     "output_type": "execute_result"
    }
   ],
   "source": [
    "def fun_sum(a):\n",
    "    result = 0\n",
    "    for i in a:\n",
    "        result = result + i\n",
    "    return result\n",
    "fun_sum([2,5,3])           "
   ]
  },
  {
   "cell_type": "code",
   "execution_count": 6,
   "id": "e338c762",
   "metadata": {},
   "outputs": [
    {
     "data": {
      "text/plain": [
       "24"
      ]
     },
     "execution_count": 6,
     "metadata": {},
     "output_type": "execute_result"
    }
   ],
   "source": [
    "def fun_mult(a):\n",
    "    result = 1\n",
    "    for i in a:\n",
    "        result = result * i\n",
    "    return result\n",
    "fun_mult([1,2,3,4])"
   ]
  },
  {
   "cell_type": "markdown",
   "id": "41fbb985",
   "metadata": {},
   "source": [
    "6 - Definir una función inversa() que calcule la inversión de una cadena. Por ejemplo la cadena \"estoy probando\" debería\n",
    "devolver la cadena \"odnaborp yotse\""
   ]
  },
  {
   "cell_type": "code",
   "execution_count": 7,
   "id": "6bb57ff6",
   "metadata": {},
   "outputs": [
    {
     "data": {
      "text/plain": [
       "'odnaborp yotse'"
      ]
     },
     "execution_count": 7,
     "metadata": {},
     "output_type": "execute_result"
    }
   ],
   "source": [
    "def inversa(a):\n",
    "    return a[::-1]\n",
    "inversa('casa')  \n",
    "inversa('estoy probando')"
   ]
  },
  {
   "cell_type": "markdown",
   "id": "d3dc3a55",
   "metadata": {},
   "source": [
    "7 - Definir una función es_palindromo() que reconoce palíndromos (es decir, palabras que tienen el mismo aspecto escritas\n",
    "invertidas), ejemplo: es_palindromo (\"radar\") tendría que devolver True."
   ]
  },
  {
   "cell_type": "code",
   "execution_count": 8,
   "id": "6250eef6",
   "metadata": {},
   "outputs": [
    {
     "data": {
      "text/plain": [
       "True"
      ]
     },
     "execution_count": 8,
     "metadata": {},
     "output_type": "execute_result"
    }
   ],
   "source": [
    "def es_palindromo(a):\n",
    "    if a == a[::-1]:\n",
    "        return True\n",
    "    else:\n",
    "        return False\n",
    "es_palindromo('oso')  "
   ]
  },
  {
   "cell_type": "markdown",
   "id": "12d564d3",
   "metadata": {},
   "source": [
    "8 - Definir una función superposicion() que tome dos listas y devuelva True si tienen al menos 1 miembro en común\n",
    "o devuelva False de lo contrario. Escribir la función usando el bucle for anidado."
   ]
  },
  {
   "cell_type": "code",
   "execution_count": 9,
   "id": "f6e86519",
   "metadata": {},
   "outputs": [
    {
     "data": {
      "text/plain": [
       "True"
      ]
     },
     "execution_count": 9,
     "metadata": {},
     "output_type": "execute_result"
    }
   ],
   "source": [
    "def superposicion(a,b):\n",
    "    for i in a:\n",
    "        for n in b:\n",
    "            if i == n:\n",
    "                return True\n",
    "    return False\n",
    "superposicion([2,5],[7,5])    "
   ]
  },
  {
   "cell_type": "markdown",
   "id": "71cb562e",
   "metadata": {},
   "source": [
    "9 - Definir una función generar_n_caracteres() que tome un entero n y devuelva el caracter multiplicado por n.\n",
    "Por ejemplo: generar_n_caracteres(5, \"x\") debería devolver \"xxxxx\"."
   ]
  },
  {
   "cell_type": "code",
   "execution_count": 10,
   "id": "5e3cfd39",
   "metadata": {},
   "outputs": [
    {
     "data": {
      "text/plain": [
       "'aaaaa'"
      ]
     },
     "execution_count": 10,
     "metadata": {},
     "output_type": "execute_result"
    }
   ],
   "source": [
    "def generar_n_caracteres(a,b):\n",
    "    return a * b\n",
    "generar_n_caracteres(5,'a')"
   ]
  },
  {
   "cell_type": "markdown",
   "id": "218954f9",
   "metadata": {},
   "source": [
    "10 - Definir un histograma procedimiento() que tome una lista de números enteros e imprima un histograma en la pantalla.\n",
    "Ejemplo: procedimiento([4, 9, 7]) debería imprimir lo siguiente:"
   ]
  },
  {
   "cell_type": "code",
   "execution_count": 11,
   "id": "24185eb8",
   "metadata": {},
   "outputs": [
    {
     "name": "stdout",
     "output_type": "stream",
     "text": [
      "****\n",
      "*********\n",
      "*******\n"
     ]
    }
   ],
   "source": [
    "def procedimiento(a):\n",
    "    for i in a:\n",
    "        print(\"*\" * i)\n",
    "procedimiento([4, 9, 7])"
   ]
  },
  {
   "cell_type": "markdown",
   "id": "b15efe96",
   "metadata": {},
   "source": [
    "# Ejercicios en python (Parte 2)"
   ]
  },
  {
   "cell_type": "markdown",
   "id": "f4a33bf4",
   "metadata": {},
   "source": [
    "1- La función max() del ejercicio 1 (primera parte) y la función max_de_tres() del ejercicio 2 (primera parte),\n",
    "solo van a funcionar para 2 o 3 números. Supongamos que tenemos mas de 3 números o no sabemos cuantos números son.\n",
    "Escribir una función max_in_list() que tome una lista de números y devuelva el mas grande."
   ]
  },
  {
   "cell_type": "code",
   "execution_count": 12,
   "id": "b1d10951",
   "metadata": {},
   "outputs": [
    {
     "data": {
      "text/plain": [
       "200"
      ]
     },
     "execution_count": 12,
     "metadata": {},
     "output_type": "execute_result"
    }
   ],
   "source": [
    "def max_in_list(lista):\n",
    "    maximo = lista[0]\n",
    "    for i in lista:\n",
    "        if i > maximo:\n",
    "            maximo = i\n",
    "    return maximo      \n",
    "max_in_list([200,6,10])    "
   ]
  },
  {
   "cell_type": "markdown",
   "id": "9f051716",
   "metadata": {},
   "source": [
    "2 - Escribir una función mas_larga() que tome una lista de palabras y devuelva la mas larga."
   ]
  },
  {
   "cell_type": "code",
   "execution_count": 13,
   "id": "9f356d6d",
   "metadata": {},
   "outputs": [
    {
     "data": {
      "text/plain": [
       "'elefalte'"
      ]
     },
     "execution_count": 13,
     "metadata": {},
     "output_type": "execute_result"
    }
   ],
   "source": [
    "def mas_larga(lista):\n",
    "    larga = \"\"\n",
    "    for i in lista:\n",
    "        if len(i) > len(larga):\n",
    "            larga = i\n",
    "    return larga\n",
    "mas_larga(['elefalte', 'oso', 'caracol'])"
   ]
  },
  {
   "cell_type": "markdown",
   "id": "333af6a8",
   "metadata": {},
   "source": [
    "3 - Escribir una función filtrar_palabras() que tome una lista de palabras y un entero n, y devuelva las palabras\n",
    "que tengan mas de n caracteres."
   ]
  },
  {
   "cell_type": "code",
   "execution_count": 14,
   "id": "8713d210",
   "metadata": {},
   "outputs": [
    {
     "data": {
      "text/plain": [
       "['casa', 'perro', 'mariposa']"
      ]
     },
     "execution_count": 14,
     "metadata": {},
     "output_type": "execute_result"
    }
   ],
   "source": [
    "def filtrar_palabras(lista, n):\n",
    "    filtro = []\n",
    "    for i in lista:\n",
    "        if len(i) > n:\n",
    "            filtro.append(i)\n",
    "    return filtro\n",
    "filtrar_palabras(['casa', 'perro', 'mariposa', 'dia'], 3)                "
   ]
  },
  {
   "cell_type": "markdown",
   "id": "e15b2d6b",
   "metadata": {},
   "source": [
    "4 - Escribir un programa que le diga al usuario que ingrese una cadena. El programa tiene que evaluar la cadena y\n",
    "decir cuantas letras mayúsculas tiene."
   ]
  },
  {
   "cell_type": "code",
   "execution_count": 15,
   "id": "c19553f1",
   "metadata": {},
   "outputs": [
    {
     "name": "stdout",
     "output_type": "stream",
     "text": [
      "Inserta una palabra: Pablo\n",
      "La palabra Pablo tiene 1 palabra Mayuscula \n"
     ]
    }
   ],
   "source": [
    "def eval_may():\n",
    "    palabra = input('Inserta una palabra: ')\n",
    "    count = 0\n",
    "    for i in palabra:\n",
    "        if i == i.upper():\n",
    "            count += 1\n",
    "    if count <= 1:\n",
    "        print(\"La palabra {} tiene {} palabra Mayuscula \".format(palabra,count))\n",
    "    else:\n",
    "        print(\"La palabra {} tiene {} palabras Mayusculas \".format(palabra,count))\n",
    "eval_may()                "
   ]
  },
  {
   "cell_type": "markdown",
   "id": "043d7848",
   "metadata": {},
   "source": [
    "6 -\n",
    "Escribir un pequeño programa donde:\n",
    "- Se ingresa el año en curso.\n",
    "- Se ingresa el nombre y el año de nacimiento de tres personas.\n",
    "- Se calcula cuántos años cumplirán durante el año en curso.\n",
    "- Se imprime en pantalla."
   ]
  },
  {
   "cell_type": "code",
   "execution_count": 16,
   "id": "830f1e91",
   "metadata": {},
   "outputs": [
    {
     "name": "stdout",
     "output_type": "stream",
     "text": [
      "Ingresa el nombre de la primera persona: Ana\n",
      "Ingresa el año de nacimiento de la primera persona: 2020\n",
      "Ingresa el nombre de la segunda persona: Pedro\n",
      "Ingresa el año de nacimiento de la segunda persona: 2000\n",
      "La edad actual de Ana es de: 3 años\n",
      "La edad actual de Pedro es de: 23 años\n"
     ]
    }
   ],
   "source": [
    "import datetime\n",
    "\n",
    "def calculo_edades():\n",
    "    actual = datetime.date.today().year\n",
    "    nombre1 = input('Ingresa el nombre de la primera persona: ')\n",
    "    nacimiento1 = int(input('Ingresa el año de nacimiento de la primera persona: '))\n",
    "    nombre2 = input('Ingresa el nombre de la segunda persona: ')\n",
    "    nacimiento2 = int(input('Ingresa el año de nacimiento de la segunda persona: '))\n",
    "    print(f\"La edad actual de {nombre1} es de: {actual - nacimiento1} años\")\n",
    "    print(f\"La edad actual de {nombre2} es de: {actual - nacimiento2} años\")\n",
    "calculo_edades()"
   ]
  },
  {
   "cell_type": "markdown",
   "id": "286bf10f",
   "metadata": {},
   "source": [
    "7 -\n",
    "Definir una tupla con 10 edades de personas.\n",
    "Imprimir la cantidad de personas con edades superiores a 20.\n",
    "Puedes variar el ejercicio para que sea el usuario quien ingrese las edades."
   ]
  },
  {
   "cell_type": "code",
   "execution_count": 17,
   "id": "f8ee9769",
   "metadata": {},
   "outputs": [
    {
     "name": "stdout",
     "output_type": "stream",
     "text": [
      "Ingresa la eda de la persona: 25\n",
      "Ingresa la eda de la persona: 14\n",
      "Ingresa la eda de la persona: 84\n",
      "Ingresa la eda de la persona: 15\n",
      "Ingresa la eda de la persona: 7\n",
      "Ingresa la eda de la persona: 23\n",
      "Ingresa la eda de la persona: 71\n",
      "Ingresa la eda de la persona: 64\n",
      "Ingresa la eda de la persona: 16\n",
      "Ingresa la eda de la persona: 75\n",
      "Ingresa la eda de la persona: 34\n",
      "De las personas que ingresaste 7 son mayores de 20 años\n"
     ]
    }
   ],
   "source": [
    "def edades_superiores():\n",
    "    count = 0\n",
    "    for i in range(11):\n",
    "        edad = int(input(\"Ingresa la eda de la persona: \"))\n",
    "        if edad > 20:\n",
    "            count += 1\n",
    "    print(\"De las personas que ingresaste {} son mayores de 20 años\".format(count))\n",
    "edades_superiores()       "
   ]
  },
  {
   "cell_type": "markdown",
   "id": "2b8d2d53",
   "metadata": {},
   "source": [
    "8 -\n",
    "Definir una lista con un conjunto de nombres, imprimir la cantidad de comienzan con la letra a.\n",
    "También se puede hacer elegir al usuario la letra a buscar.  (Un poco mas emocionante)"
   ]
  },
  {
   "cell_type": "code",
   "execution_count": 18,
   "id": "29a6d099",
   "metadata": {},
   "outputs": [
    {
     "name": "stdout",
     "output_type": "stream",
     "text": [
      "Ingresa la letra de la primera palabra a buscar: A\n",
      "2\n"
     ]
    }
   ],
   "source": [
    "nombres = ['Juan','Ana','Sonia','Gabriel', 'Angelica']\n",
    "letra = input(\"Ingresa la letra de la primera palabra a buscar: \")\n",
    "count = 0\n",
    "for i in nombres:\n",
    "    for a in i[0]:\n",
    "        if a.lower().startswith(letra.lower()):\n",
    "            count += 1\n",
    "print(count)               "
   ]
  },
  {
   "cell_type": "markdown",
   "id": "35a15419",
   "metadata": {},
   "source": [
    "9 - \n",
    "Crear una función contar_vocales(), que reciba una palabra y cuente cuantas letras \"a\" tiene, cuantas letras \"e\" tiene\n",
    "y así hasta completar todas las vocales.\n",
    "Se puede hacer que el usuario sea quien elija la palabra."
   ]
  },
  {
   "cell_type": "code",
   "execution_count": 20,
   "id": "df7398f9",
   "metadata": {},
   "outputs": [
    {
     "name": "stdout",
     "output_type": "stream",
     "text": [
      "Elige la palabra a contar vocales: Manuel\n",
      "La palabra Manuel tiene: 1 'a', 1 'e', 0 'i', 0 'o', 1 'u'\n"
     ]
    }
   ],
   "source": [
    "def contar_vocales():\n",
    "    elecc = input(\"Elige la palabra a contar vocales: \")\n",
    "    count_a = 0\n",
    "    count_e = 0\n",
    "    count_i = 0\n",
    "    count_o = 0\n",
    "    count_u = 0\n",
    "    for i in elecc:\n",
    "        if i in ('a','A'):\n",
    "            count_a += 1\n",
    "        elif i in ('e', 'E'):\n",
    "            count_e += 1\n",
    "        elif i in ('i', 'I'):\n",
    "            count_i += 1\n",
    "        elif i in ('o','O'):\n",
    "            count_o += 1\n",
    "        elif i in ('u', 'U'):\n",
    "            count_u +=1\n",
    "    print(\"La palabra {} tiene: {} 'a', {} 'e', {} 'i', {} 'o', {} 'u'\".format(elecc,count_a, count_e, count_i, count_o, count_u))\n",
    "        \n",
    "contar_vocales()"
   ]
  },
  {
   "cell_type": "markdown",
   "id": "4c7940a8",
   "metadata": {},
   "source": [
    "10 -\n",
    "Escriba una función es_bisiesto() que determine si un año determinado es un año\n",
    "bisiesto.Un año bisiesto es divisible por 4, pero no por 100. También es divisible por 400"
   ]
  },
  {
   "cell_type": "code",
   "execution_count": 21,
   "id": "e6011a52",
   "metadata": {},
   "outputs": [
    {
     "name": "stdout",
     "output_type": "stream",
     "text": [
      "ingresa el año a conocer si es bisiesto o no: 2023\n",
      "El año 2023 no es bisiesto\n"
     ]
    }
   ],
   "source": [
    "def es_bisiesto():\n",
    "    año =  int(input('ingresa el año a conocer si es bisiesto o no: '))\n",
    "    if (año %4 == 0)  and (año %100 != 0 or año %400 == 0):\n",
    "        print(\"El año {} es bisiesto\".format(año))\n",
    "    else:\n",
    "        print(\"El año {} no es bisiesto\".format(año))\n",
    "es_bisiesto()    "
   ]
  },
  {
   "cell_type": "markdown",
   "id": "b85ff909",
   "metadata": {},
   "source": [
    "11 - \n",
    "Definir una lista con un conjunto de nombres, imprimir la cantidad de comienzan con la letra a.\n",
    "También se puede hacer elegir al usuario la letra a buscar.  (Un poco mas emocionante)"
   ]
  },
  {
   "cell_type": "code",
   "execution_count": 22,
   "id": "e7918c4f",
   "metadata": {},
   "outputs": [
    {
     "name": "stdout",
     "output_type": "stream",
     "text": [
      "Ingresa la letra inicial a buscar: v\n",
      "La letra v aparece al inicio 1 vez\n"
     ]
    }
   ],
   "source": [
    "def busca_letra():\n",
    "    nombres = ['Pedro', 'Ana', 'Monica', 'Victoria', 'Armando']\n",
    "    letra = input(\"Ingresa la letra inicial a buscar: \")\n",
    "    count = 0\n",
    "    for i in nombres:\n",
    "        for a in i[0]:\n",
    "            if a.lower() == letra:\n",
    "                count += 1\n",
    "    if count >= 1:\n",
    "        print(\"La letra {} aparece al inicio {} vez\".format(letra,count))\n",
    "    else:\n",
    "        print(\"La letra {} aparece al inicio {} veces\".format(letra,count))\n",
    "busca_letra()"
   ]
  },
  {
   "cell_type": "code",
   "execution_count": null,
   "id": "9fb1d9e3",
   "metadata": {},
   "outputs": [],
   "source": []
  }
 ],
 "metadata": {
  "kernelspec": {
   "display_name": "Python 3 (ipykernel)",
   "language": "python",
   "name": "python3"
  },
  "language_info": {
   "codemirror_mode": {
    "name": "ipython",
    "version": 3
   },
   "file_extension": ".py",
   "mimetype": "text/x-python",
   "name": "python",
   "nbconvert_exporter": "python",
   "pygments_lexer": "ipython3",
   "version": "3.9.12"
  }
 },
 "nbformat": 4,
 "nbformat_minor": 5
}
